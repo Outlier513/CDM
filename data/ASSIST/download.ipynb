{
 "cells": [
  {
   "cell_type": "code",
   "execution_count": null,
   "metadata": {},
   "outputs": [],
   "source": [
    "# http://base.ustc.edu.cn/data/ASSISTment/2009_skill_builder_data_corrected.zip\n"
   ]
  },
  {
   "cell_type": "code",
   "execution_count": 2,
   "metadata": {},
   "outputs": [],
   "source": [
    "import requests\n",
    "\n",
    "url = \"http://base.ustc.edu.cn/data/ASSISTment/2009_skill_builder_data_corrected.zip\"\n",
    "\n",
    "response = requests.get(url)\n",
    "with open(\"assistment-2009-2010-skill.csv\", \"wb\") as f:\n",
    "    f.write(response.content)"
   ]
  },
  {
   "cell_type": "code",
   "execution_count": 6,
   "metadata": {},
   "outputs": [
    {
     "name": "stderr",
     "output_type": "stream",
     "text": [
      "2009_skill_builder_data_corrected.zip: 100%|██████████| 8.66M/8.66M [00:08<00:00, 1.06MiB/s]"
     ]
    },
    {
     "name": "stdout",
     "output_type": "stream",
     "text": [
      "The file 2009_skill_builder_data_corrected.zip has been downloaded and extracted.\n"
     ]
    },
    {
     "name": "stderr",
     "output_type": "stream",
     "text": [
      "\n"
     ]
    }
   ],
   "source": [
    "import requests\n",
    "from tqdm import tqdm\n",
    "import zipfile\n",
    "\n",
    "\n",
    "def download_with_progress(url, file_name):\n",
    "    response = requests.get(url, stream=True)\n",
    "    total_size = int(response.headers.get(\"content-length\", 0))\n",
    "    block_size = 1024  # 1 Kibibyte\n",
    "\n",
    "    with open(file_name, \"wb\") as file, tqdm(\n",
    "        desc=file_name,\n",
    "        total=total_size,\n",
    "        unit=\"iB\",\n",
    "        unit_scale=True,\n",
    "        unit_divisor=1024,\n",
    "    ) as bar:\n",
    "        for data in response.iter_content(block_size):\n",
    "            bar.update(len(data))\n",
    "            file.write(data)\n",
    "\n",
    "\n",
    "# 设置下载链接和文件名\n",
    "url = \"http://base.ustc.edu.cn/data/ASSISTment/2009_skill_builder_data_corrected.zip\"\n",
    "\n",
    "file_name = url.split(r\"/\")[-1]\n",
    "\n",
    "# 调用下载函数\n",
    "download_with_progress(url, file_name)\n",
    "\n",
    "\n",
    "with zipfile.ZipFile(file_name, \"r\") as zip_ref:\n",
    "    zip_ref.extractall()\n",
    "\n",
    "print(f\"The file {file_name} has been downloaded and extracted.\")"
   ]
  }
 ],
 "metadata": {
  "kernelspec": {
   "display_name": "torch",
   "language": "python",
   "name": "python3"
  },
  "language_info": {
   "codemirror_mode": {
    "name": "ipython",
    "version": 3
   },
   "file_extension": ".py",
   "mimetype": "text/x-python",
   "name": "python",
   "nbconvert_exporter": "python",
   "pygments_lexer": "ipython3",
   "version": "3.8.18"
  }
 },
 "nbformat": 4,
 "nbformat_minor": 2
}
